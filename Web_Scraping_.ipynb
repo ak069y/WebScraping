{
 "cells": [
  {
   "cell_type": "code",
   "execution_count": null,
   "metadata": {},
   "outputs": [],
   "source": [
    "import requests\n",
    "import pandas as pd\n",
    "import datetime as datetime\n",
    "from dateutil import relativedelta\n",
    "from collections import Counter , defaultdict \n",
    "from gazpacho import get , Soup\n",
    "from collections import OrderedDict\n",
    "import bs4 as BeautifulSoup\n",
    "import urllib.request \n",
    "import DBcm"
   ]
  },
  {
   "cell_type": "code",
   "execution_count": null,
   "metadata": {},
   "outputs": [],
   "source": [
    "url = 'https://en.wikipedia.org/wiki/Taoiseach'\n",
    "html = requests.get(url)\n",
    "total_data = pd.read_html(html.text)\n",
    "taoiseach_data = total_data[3]\n",
    "df = taoiseach_data[1:]\n",
    "df = df.drop(columns=[1])\n",
    "df = df.drop([1,10,11])\n",
    "df2 = df.drop(columns=[8])\n",
    "df2['Name_of_the_President'] = df2[2].str.split('(', expand = True)[0]\n",
    "df2['Constituency_1'] = df2[2].str.split('for ', expand = True)[1].str.split('until',expand = True)[0].str.strip(' ')\n",
    "df2['Constituency_2'] = df2[2].str.split('for ', expand = True)[2].str.split('from', expand = True)[0].str.strip(' ')\n",
    "df2['Term_Start'] = df2[3].str.split('[', expand = True)[0].str.strip(\" \")\n",
    "df2['Term_End'] = df2[4].str.split('[', expand = True)[0].str.strip(\" \")\n",
    "df2 = df2.drop(columns=[2,3,4])\n",
    "df2.rename(columns ={ 9:'Vice_President' , 10:'Dail' , 5:'Party'} , inplace = True)\n",
    "df2 = df2.drop(columns=[0,6,7])\n",
    "df2['Dail'] = df2['Dail'].str.split('(', expand = True)[0]"
   ]
  },
  {
   "cell_type": "code",
   "execution_count": null,
   "metadata": {},
   "outputs": [],
   "source": [
    "df2.loc[df2.Term_End== 'Incumbent', 'Term_End'] =  str(datetime.datetime.today()).split()[0]"
   ]
  },
  {
   "cell_type": "code",
   "execution_count": null,
   "metadata": {},
   "outputs": [],
   "source": [
    "df2.Term_Start = pd.to_datetime(df2.Term_Start)\n",
    "df2.Term_End = pd.to_datetime(df2.Term_End , errors='coerce')"
   ]
  },
  {
   "cell_type": "code",
   "execution_count": null,
   "metadata": {},
   "outputs": [],
   "source": [
    "URL = \"https://en.wikipedia.org/wiki/Taoiseach\" \n",
    "html = get(URL)\n",
    "soup = Soup(html)\n",
    "tables = soup.find(\"table\")\n",
    "needed_table = tables[2]\n",
    "rows = needed_table.find(\"b\")"
   ]
  },
  {
   "cell_type": "code",
   "execution_count": null,
   "metadata": {},
   "outputs": [],
   "source": [
    "link_list = []\n",
    "for i in rows:\n",
    "    x = i.find(\"a\")\n",
    "    link_list.append(x)"
   ]
  },
  {
   "cell_type": "code",
   "execution_count": null,
   "metadata": {},
   "outputs": [],
   "source": [
    "my_final_urls = []\n",
    "for j in rows:\n",
    "    x = j.find(\"a\")\n",
    "    pre_link = x.attrs['href']\n",
    "    final_link = \"https://en.wikipedia.org\"+ pre_link\n",
    "    my_final_urls.append(final_link)"
   ]
  },
  {
   "cell_type": "code",
   "execution_count": null,
   "metadata": {},
   "outputs": [],
   "source": [
    "my_final_urls = sorted(set(my_final_urls))"
   ]
  },
  {
   "cell_type": "code",
   "execution_count": null,
   "metadata": {},
   "outputs": [],
   "source": [
    "my_list = OrderedDict()\n",
    "for i,j in enumerate(my_final_urls):\n",
    "    my_list[i] = j"
   ]
  },
  {
   "cell_type": "code",
   "execution_count": null,
   "metadata": {},
   "outputs": [],
   "source": [
    "df2[\"birthday_coded\"] = [13,13,13,13,13,0,0,0,0,0,0,0,8,0,8,0,12,12,12,7,7,11,7,4,6,4,6,6,4,4,4,1,1,1,9,2,2,2,2,3,5,5,5,10,10]"
   ]
  },
  {
   "cell_type": "code",
   "execution_count": null,
   "metadata": {},
   "outputs": [],
   "source": [
    "mpt_list = []\n",
    "for i in df2['birthday_coded']:\n",
    "    df2['birthday_coded'] = my_list[i]\n",
    "    final_url = urllib.request.urlopen(my_list[i])\n",
    "    soup = BeautifulSoup.BeautifulSoup(final_url , 'lxml')\n",
    "    var = soup.find(\"table\" , attrs = {'class' : 'infobox vcard'})\n",
    "    birth_day = var.find('span' , attrs = {'class' : 'bday'})\n",
    "    mpt_list.append(birth_day.text)\n",
    "df2[\"BirthDate\"] = mpt_list \n",
    "df2 = df2.drop(columns=['birthday_coded'])\n",
    "df2.reset_index(drop=True, inplace=True)\n",
    "df2.BirthDate = pd.to_datetime(df2.BirthDate)"
   ]
  },
  {
   "cell_type": "code",
   "execution_count": null,
   "metadata": {},
   "outputs": [],
   "source": [
    "database_input = df2.values.tolist()"
   ]
  },
  {
   "cell_type": "markdown",
   "metadata": {},
   "source": [
    "# Before Running the following code, need to run below queries in MySQL for the creation of user , database and its tables"
   ]
  },
  {
   "cell_type": "markdown",
   "metadata": {},
   "source": [
    "CREATE USER 'aditya'@'localhost' IDENTIFIED BY 'aditya'; grant all privileges on presidents.* to 'aditya'@'localhost'; flush privileges; quit"
   ]
  },
  {
   "cell_type": "markdown",
   "metadata": {},
   "source": [
    "--> Now login with user aditya:\n",
    "\n",
    "mysql -u aditya -p"
   ]
  },
  {
   "cell_type": "markdown",
   "metadata": {},
   "source": [
    "use database presidents;"
   ]
  },
  {
   "cell_type": "markdown",
   "metadata": {},
   "source": [
    "create table table_1( -> Party varchar(50), -> Vice_President varchar(70), -> Dail int, -> Name_of_the_President varchar(100), -> Constituency_1 varchar(60), -> Constituency_2 varchar(60), -> Term_Start date, -> Term_End date, -> BirthDate date);"
   ]
  },
  {
   "cell_type": "code",
   "execution_count": null,
   "metadata": {},
   "outputs": [],
   "source": [
    "config = {\n",
    "    'user': 'aditya',\n",
    "    'password': 'aditya',\n",
    "    'host': '127.0.0.1',\n",
    "    'database': 'presidents',\n",
    "}"
   ]
  },
  {
   "cell_type": "code",
   "execution_count": null,
   "metadata": {},
   "outputs": [],
   "source": [
    "with DBcm.UseDatabase(config) as cursor:\n",
    "    SQL = \"\"\"INSERT INTO table_1 (\n",
    "    Party,Vice_President,Dail,Name_of_the_President,Constituency_1,Constituency_2,Term_Start,Term_End,BirthDate) VALUES (%s, %s, %s, %s , %s, %s, %s, %s , %s )\"\"\"\n",
    "    cursor.executemany(SQL, database_input )"
   ]
  },
  {
   "cell_type": "markdown",
   "metadata": {},
   "source": [
    "##  (a) Provide a list of constituencies in Ireland which have produced a Taoiseach."
   ]
  },
  {
   "cell_type": "code",
   "execution_count": null,
   "metadata": {},
   "outputs": [],
   "source": [
    "answerA = []\n",
    "A_answer =[]\n",
    "for i in df2[\"Constituency_1\"]:\n",
    "    answerA.append(i)\n",
    "for j in df2[\"Constituency_2\"]: \n",
    "    answerA.append(j)\n",
    "for k in set(answerA):\n",
    "    if (bool(k)) != False:\n",
    "        A_answer.append(k)\n",
    "A_answer                  "
   ]
  },
  {
   "cell_type": "markdown",
   "metadata": {},
   "source": [
    "## (b) Which political party has produced the most individual Taoiseachs?"
   ]
  },
  {
   "cell_type": "code",
   "execution_count": null,
   "metadata": {},
   "outputs": [],
   "source": [
    "with DBcm.UseDatabase(config) as cursor:\n",
    "    SQL = \"select Party , count(DISTINCT Name_of_the_President) from table_1 group by party order by count(DISTINCT Name_of_the_President) DESC limit 1 \"\n",
    "    cursor.execute(SQL)\n",
    "    output = cursor.fetchall()\n",
    "    print(output)"
   ]
  },
  {
   "cell_type": "markdown",
   "metadata": {},
   "source": [
    "## (c) Provide the list of names for those politicians who previously held the position of\n",
    "## “Vice President” or “Tánaiste” prior to becoming Taoiseach."
   ]
  },
  {
   "cell_type": "code",
   "execution_count": null,
   "metadata": {},
   "outputs": [],
   "source": [
    "with DBcm.UseDatabase(config) as cursor:\n",
    "    SQL = \"select distinct Name_of_the_President from table_1 where  Name_of_the_President in (select Vice_President from table_1)\"\n",
    "    cursor.execute(SQL)\n",
    "    output = cursor.fetchall()\n",
    "    print(output)"
   ]
  },
  {
   "cell_type": "markdown",
   "metadata": {},
   "source": [
    "## (d) Which political party held the office of Taoiseach for the longest amount of overall time, and for how long (in years, months, and days)?"
   ]
  },
  {
   "cell_type": "code",
   "execution_count": null,
   "metadata": {},
   "outputs": [],
   "source": [
    "var_1 = defaultdict(list)\n",
    "for index, row in df2.iterrows():\n",
    "    \n",
    "    a = row['Term_End']\n",
    "    b = row['Term_Start']\n",
    "    c = row['Party']\n",
    "    \n",
    "    diff = relativedelta.relativedelta(a,b)\n",
    "   \n",
    "    years = int(diff.years)\n",
    "    months = int(diff.months) \n",
    "    days = int(diff.days)\n",
    "      \n",
    "    x = years*365 + months*12 + days\n",
    "    \n",
    "    var_1[c].append(x)\n",
    "new_dict1= {}\n",
    "for g,h in var_1.items():\n",
    "    new_dict1[g] = set(h) \n",
    "a = new_dict1['Fianna Fáil'] \n",
    "b = new_dict1['Fine Gael']\n",
    "sum_Fianna_Fáil = sum(a)\n",
    "sum_Fine_Gael = sum(b)\n",
    "print(sum_Fianna_Fáil)    "
   ]
  },
  {
   "cell_type": "markdown",
   "metadata": {},
   "source": [
    "## (g) Which political party has held the office of Taoiseach for the largest number of Dáils?"
   ]
  },
  {
   "cell_type": "code",
   "execution_count": null,
   "metadata": {},
   "outputs": [],
   "source": [
    "with DBcm.UseDatabase(config) as cursor:\n",
    "    SQL = \"select count(DISTINCT Dail) , Party  from table_1 group by Party  order by count(DISTINCT Dail) DESC limit 1\"\n",
    "    cursor.execute(SQL)\n",
    "    output = cursor.fetchall()\n",
    "    print(output)"
   ]
  },
  {
   "cell_type": "markdown",
   "metadata": {},
   "source": [
    "## (h) Which individual politician has held the office of Taoiseach for the most number of Dáils?"
   ]
  },
  {
   "cell_type": "code",
   "execution_count": null,
   "metadata": {},
   "outputs": [],
   "source": [
    "with DBcm.UseDatabase(config) as cursor:\n",
    "    SQL = \"select count(DISTINCT Dail) , Name_of_the_President  from table_1 group by Name_of_the_President order by count(DISTINCT Dail) DESC limit 1\"\n",
    "    cursor.execute(SQL)\n",
    "    output = cursor.fetchall()\n",
    "    print(output)"
   ]
  },
  {
   "cell_type": "markdown",
   "metadata": {},
   "source": [
    "## (i) What age was each Taoiseach on the day they assumed office? "
   ]
  },
  {
   "cell_type": "code",
   "execution_count": null,
   "metadata": {},
   "outputs": [],
   "source": [
    "age_f_day = []\n",
    "\n",
    "for index, row in df2.iterrows():\n",
    "    \n",
    "    a = row['Term_Start']\n",
    "    b = row['BirthDate']\n",
    "    \n",
    "    diff = relativedelta.relativedelta(a,b)\n",
    "   \n",
    "    years = diff.years\n",
    "    months = diff.months \n",
    "    days = diff.days\n",
    "   \n",
    "    age_f_day.append(f\"{years}Years{months} Months{days} Days\")\n",
    "answer_i = df2['Name_of_the_President'].copy()\n",
    "age_f_day_df = pd.DataFrame(age_f_day)\n",
    "answer_df = pd.concat([answer_i,age_f_day_df],axis=1)\n",
    "answer_df.rename(columns ={ 0:'AGE'} , inplace = True)\n",
    "answer_df = answer_df.drop_duplicates()\n",
    "answer_df"
   ]
  },
  {
   "cell_type": "markdown",
   "metadata": {},
   "source": [
    "## (j) On the last day of their term of office, which politician was the oldest?"
   ]
  },
  {
   "cell_type": "code",
   "execution_count": null,
   "metadata": {},
   "outputs": [],
   "source": [
    "age_f_day = []\n",
    "\n",
    "for index, row in df2.iterrows():\n",
    "    \n",
    "    a = row['Term_End']\n",
    "    b = row['BirthDate']\n",
    "    \n",
    "    diff = relativedelta.relativedelta(a,b)\n",
    "   \n",
    "    years = diff.years\n",
    "    months = diff.months \n",
    "    days = diff.days\n",
    "   \n",
    "    age_f_day.append(f\"{years}\")\n",
    "answer_i = df2['Name_of_the_President'].copy()\n",
    "age_f_day_df = pd.DataFrame(age_f_day)\n",
    "answer_df = pd.concat([answer_i,age_f_day_df],axis=1)\n",
    "answer_df.rename(columns ={ 0:'AGE'} , inplace = True)\n",
    "answer_df = answer_df.drop_duplicates(keep='last')\n",
    "answer_df[answer_df['AGE']==answer_df['AGE'].max()]"
   ]
  },
  {
   "cell_type": "markdown",
   "metadata": {},
   "source": [
    "## (k) In your view, and based on statistics calculated from your scraped data, which Irishpolitical party is the most successful? Show and describe your calculations."
   ]
  },
  {
   "cell_type": "markdown",
   "metadata": {},
   "source": [
    "From the data scraped and queried in the assignment, it is visible that the most successful political parties prevalent in Ireland are Fianna_Fáil and Fine_Gael.\n",
    "Both the parties have been in power for almost alternatively."
   ]
  }
 ],
 "metadata": {
  "kernelspec": {
   "display_name": "Python 3",
   "language": "python",
   "name": "python3"
  },
  "language_info": {
   "codemirror_mode": {
    "name": "ipython",
    "version": 3
   },
   "file_extension": ".py",
   "mimetype": "text/x-python",
   "name": "python",
   "nbconvert_exporter": "python",
   "pygments_lexer": "ipython3",
   "version": "3.7.3"
  }
 },
 "nbformat": 4,
 "nbformat_minor": 2
}
